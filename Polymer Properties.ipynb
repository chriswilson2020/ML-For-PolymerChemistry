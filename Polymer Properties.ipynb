{
 "cells": [
  {
   "cell_type": "markdown",
   "id": "6643ff68-e369-4f29-87fe-2d1334d059f3",
   "metadata": {},
   "source": [
    "# Data import of polymer data\n",
    "\n",
    "Data and methodology taken from: Estimation and Prediction of the Polymers’ Physical Characteristics Using the Machine Learning Models Polymers 2024, 16(1), 115; https://doi.org/10.3390/polym16010115. \n",
    "\n",
    "Github repository: https://github.com/catauggie/polymersML/tree/main"
   ]
  },
  {
   "cell_type": "code",
   "execution_count": 1,
   "id": "c19e9cf0-dcd0-4e80-a13a-10b31bdeea76",
   "metadata": {
    "tags": []
   },
   "outputs": [],
   "source": [
    "#import the pandas library\n",
    "import pandas as pd\n",
    "\n",
    "# Use pandas to import the polymer datafile into a dataframe\n",
    "polyinfo = pd.read_excel('polyinfo homopolymer.xlsx')"
   ]
  },
  {
   "cell_type": "code",
   "execution_count": 19,
   "id": "bb0cc148-18f3-4cc4-a47b-ec06212da620",
   "metadata": {
    "tags": []
   },
   "outputs": [
    {
     "data": {
      "text/html": [
       "<div>\n",
       "<style scoped>\n",
       "    .dataframe tbody tr th:only-of-type {\n",
       "        vertical-align: middle;\n",
       "    }\n",
       "\n",
       "    .dataframe tbody tr th {\n",
       "        vertical-align: top;\n",
       "    }\n",
       "\n",
       "    .dataframe thead th {\n",
       "        text-align: right;\n",
       "    }\n",
       "</style>\n",
       "<table border=\"1\" class=\"dataframe\">\n",
       "  <thead>\n",
       "    <tr style=\"text-align: right;\">\n",
       "      <th></th>\n",
       "      <th>polymer_name</th>\n",
       "      <th>polymer_id</th>\n",
       "      <th>cu_formula</th>\n",
       "      <th>property_category</th>\n",
       "      <th>property_name</th>\n",
       "      <th>property_value_median</th>\n",
       "      <th>property_value_variance</th>\n",
       "      <th>property_unit</th>\n",
       "    </tr>\n",
       "  </thead>\n",
       "  <tbody>\n",
       "    <tr>\n",
       "      <th>0</th>\n",
       "      <td>polyethene</td>\n",
       "      <td>P010001</td>\n",
       "      <td>CH2</td>\n",
       "      <td>Physical property</td>\n",
       "      <td>Density</td>\n",
       "      <td>0.9362</td>\n",
       "      <td>0.010564</td>\n",
       "      <td>g/cm3</td>\n",
       "    </tr>\n",
       "    <tr>\n",
       "      <th>1</th>\n",
       "      <td>polyethene</td>\n",
       "      <td>P010001</td>\n",
       "      <td>CH2</td>\n",
       "      <td>Physical property</td>\n",
       "      <td>Specific volume</td>\n",
       "      <td>1.073</td>\n",
       "      <td>12.574191</td>\n",
       "      <td>cm3/g</td>\n",
       "    </tr>\n",
       "    <tr>\n",
       "      <th>2</th>\n",
       "      <td>polyethene</td>\n",
       "      <td>P010001</td>\n",
       "      <td>CH2</td>\n",
       "      <td>Optical property</td>\n",
       "      <td>Refractive index</td>\n",
       "      <td>1.531</td>\n",
       "      <td>0.00091</td>\n",
       "      <td>NaN</td>\n",
       "    </tr>\n",
       "    <tr>\n",
       "      <th>3</th>\n",
       "      <td>polyethene</td>\n",
       "      <td>P010001</td>\n",
       "      <td>CH2</td>\n",
       "      <td>Thermal property</td>\n",
       "      <td>Crystallization kinetics r</td>\n",
       "      <td>79175</td>\n",
       "      <td>122911964.285714</td>\n",
       "      <td>nm/s</td>\n",
       "    </tr>\n",
       "    <tr>\n",
       "      <th>4</th>\n",
       "      <td>polyethene</td>\n",
       "      <td>P010001</td>\n",
       "      <td>CH2</td>\n",
       "      <td>Thermal property</td>\n",
       "      <td>Crystallization kinetics k</td>\n",
       "      <td>0.0617</td>\n",
       "      <td>0.58551</td>\n",
       "      <td>NaN</td>\n",
       "    </tr>\n",
       "  </tbody>\n",
       "</table>\n",
       "</div>"
      ],
      "text/plain": [
       "  polymer_name polymer_id cu_formula  property_category  \\\n",
       "0   polyethene    P010001        CH2  Physical property   \n",
       "1   polyethene    P010001        CH2  Physical property   \n",
       "2   polyethene    P010001        CH2   Optical property   \n",
       "3   polyethene    P010001        CH2   Thermal property   \n",
       "4   polyethene    P010001        CH2   Thermal property   \n",
       "\n",
       "                property_name property_value_median property_value_variance  \\\n",
       "0                     Density                0.9362                0.010564   \n",
       "1             Specific volume                 1.073               12.574191   \n",
       "2            Refractive index                 1.531                 0.00091   \n",
       "3  Crystallization kinetics r                 79175        122911964.285714   \n",
       "4  Crystallization kinetics k                0.0617                 0.58551   \n",
       "\n",
       "  property_unit  \n",
       "0         g/cm3  \n",
       "1         cm3/g  \n",
       "2           NaN  \n",
       "3          nm/s  \n",
       "4           NaN  "
      ]
     },
     "execution_count": 19,
     "metadata": {},
     "output_type": "execute_result"
    }
   ],
   "source": [
    "#Print out the head of the dataframe to see if it looks ok\n",
    "polyinfo.head()"
   ]
  },
  {
   "cell_type": "code",
   "execution_count": 18,
   "id": "2f8e6f7f-989a-422c-80f3-9340ba2a7d0f",
   "metadata": {
    "tags": []
   },
   "outputs": [
    {
     "name": "stdout",
     "output_type": "stream",
     "text": [
      "Number of polymers in the dataset = 18,312\n"
     ]
    }
   ],
   "source": [
    "# Determine the number of unique polymers in the dataset\n",
    "polymers = list(polyinfo['polymer_name'].unique())\n",
    "print(f'Number of polymers in the dataset = {len(polymers):,}')"
   ]
  },
  {
   "cell_type": "markdown",
   "id": "33c01699-6756-49d6-8bbb-319855e06581",
   "metadata": {},
   "source": [
    "## Slice the data into smaller dataframes\n",
    "This snippet of code iterates through a list of polymers, filters information from a DataFrame (`polyinfo`), and then appends the filtered information to a list named `poly_list`. Here's a breakdown of what each part of the code does:\n",
    "\n",
    "1. `poly_list = []`: Initializes `poly_list` as an empty list. This list will store the filtered information for each polymer found in the `polymers` list.\n",
    "\n",
    "2. `for p in range(len(polymers)):`: This line starts a loop that iterates over the indices of the `polymers` list. The `range(len(polymers))` generates a sequence of numbers from `0` to the length of the `polymers` list minus one, effectively iterating over each index in the `polymers` list.\n",
    "\n",
    "3. `poly = polyinfo[polyinfo['polymer_name'] == polymers[p]]`: For each iteration of the loop, this line filters the `polyinfo` DataFrame for rows where the value in the 'polymer_name' column matches the current polymer name in the loop (`polymers[p]`). The result of this filtering (which could be one or more rows of data) is assigned to the variable `poly`.\n",
    "\n",
    "4. `poly_list.append(poly)`: This line appends the filtered DataFrame `poly` to the `poly_list`. After the loop completes, `poly_list` will contain a list of DataFrames, where each DataFrame corresponds to a filtered view of `polyinfo` for each polymer name in the `polymers` list.\n",
    "\n",
    "In summary, this code filters a large DataFrame (`polyinfo`) for specific rows matching each polymer name in a list (`polymers`), and collects these filtered DataFrames into a list (`poly_list`). This separats data specific to each polymer for use in subsequent operations."
   ]
  },
  {
   "cell_type": "code",
   "execution_count": 21,
   "id": "2ed12802-6822-44b4-85e6-4c6e9461e88d",
   "metadata": {
    "tags": []
   },
   "outputs": [],
   "source": [
    "poly_list = []\n",
    "for p in range(len(polymers)):\n",
    "    poly = polyinfo[polyinfo['polymer_name'] == polymers[p]]\n",
    "    poly_list.append(poly)"
   ]
  },
  {
   "cell_type": "code",
   "execution_count": 24,
   "id": "5d45ad0f-c165-4998-8f28-4fb9e2dc4190",
   "metadata": {
    "tags": []
   },
   "outputs": [
    {
     "data": {
      "text/html": [
       "<div>\n",
       "<style scoped>\n",
       "    .dataframe tbody tr th:only-of-type {\n",
       "        vertical-align: middle;\n",
       "    }\n",
       "\n",
       "    .dataframe tbody tr th {\n",
       "        vertical-align: top;\n",
       "    }\n",
       "\n",
       "    .dataframe thead th {\n",
       "        text-align: right;\n",
       "    }\n",
       "</style>\n",
       "<table border=\"1\" class=\"dataframe\">\n",
       "  <thead>\n",
       "    <tr style=\"text-align: right;\">\n",
       "      <th></th>\n",
       "      <th>polymer_name</th>\n",
       "      <th>polymer_id</th>\n",
       "      <th>cu_formula</th>\n",
       "      <th>property_category</th>\n",
       "      <th>property_name</th>\n",
       "      <th>property_value_median</th>\n",
       "      <th>property_value_variance</th>\n",
       "      <th>property_unit</th>\n",
       "    </tr>\n",
       "  </thead>\n",
       "  <tbody>\n",
       "    <tr>\n",
       "      <th>0</th>\n",
       "      <td>polyethene</td>\n",
       "      <td>P010001</td>\n",
       "      <td>CH2</td>\n",
       "      <td>Physical property</td>\n",
       "      <td>Density</td>\n",
       "      <td>0.9362</td>\n",
       "      <td>0.010564</td>\n",
       "      <td>g/cm3</td>\n",
       "    </tr>\n",
       "    <tr>\n",
       "      <th>1</th>\n",
       "      <td>polyethene</td>\n",
       "      <td>P010001</td>\n",
       "      <td>CH2</td>\n",
       "      <td>Physical property</td>\n",
       "      <td>Specific volume</td>\n",
       "      <td>1.073</td>\n",
       "      <td>12.574191</td>\n",
       "      <td>cm3/g</td>\n",
       "    </tr>\n",
       "    <tr>\n",
       "      <th>2</th>\n",
       "      <td>polyethene</td>\n",
       "      <td>P010001</td>\n",
       "      <td>CH2</td>\n",
       "      <td>Optical property</td>\n",
       "      <td>Refractive index</td>\n",
       "      <td>1.531</td>\n",
       "      <td>0.00091</td>\n",
       "      <td>NaN</td>\n",
       "    </tr>\n",
       "    <tr>\n",
       "      <th>3</th>\n",
       "      <td>polyethene</td>\n",
       "      <td>P010001</td>\n",
       "      <td>CH2</td>\n",
       "      <td>Thermal property</td>\n",
       "      <td>Crystallization kinetics r</td>\n",
       "      <td>79175</td>\n",
       "      <td>122911964.285714</td>\n",
       "      <td>nm/s</td>\n",
       "    </tr>\n",
       "    <tr>\n",
       "      <th>4</th>\n",
       "      <td>polyethene</td>\n",
       "      <td>P010001</td>\n",
       "      <td>CH2</td>\n",
       "      <td>Thermal property</td>\n",
       "      <td>Crystallization kinetics k</td>\n",
       "      <td>0.0617</td>\n",
       "      <td>0.58551</td>\n",
       "      <td>NaN</td>\n",
       "    </tr>\n",
       "    <tr>\n",
       "      <th>...</th>\n",
       "      <td>...</td>\n",
       "      <td>...</td>\n",
       "      <td>...</td>\n",
       "      <td>...</td>\n",
       "      <td>...</td>\n",
       "      <td>...</td>\n",
       "      <td>...</td>\n",
       "      <td>...</td>\n",
       "    </tr>\n",
       "    <tr>\n",
       "      <th>88</th>\n",
       "      <td>polyethene</td>\n",
       "      <td>P010001</td>\n",
       "      <td>CH2</td>\n",
       "      <td>Other physical property</td>\n",
       "      <td>Pvt relation pressure</td>\n",
       "      <td>55</td>\n",
       "      <td>42001.909205</td>\n",
       "      <td>MPa</td>\n",
       "    </tr>\n",
       "    <tr>\n",
       "      <th>89</th>\n",
       "      <td>polyethene</td>\n",
       "      <td>P010001</td>\n",
       "      <td>CH2</td>\n",
       "      <td>Other physical property</td>\n",
       "      <td>Pvt relation specific volume</td>\n",
       "      <td>1.127</td>\n",
       "      <td>0.0146</td>\n",
       "      <td>cm3/g</td>\n",
       "    </tr>\n",
       "    <tr>\n",
       "      <th>90</th>\n",
       "      <td>polyethene</td>\n",
       "      <td>P010001</td>\n",
       "      <td>CH2</td>\n",
       "      <td>Other physical property</td>\n",
       "      <td>Pvt relation temperature</td>\n",
       "      <td>180</td>\n",
       "      <td>4496404.537488</td>\n",
       "      <td>C</td>\n",
       "    </tr>\n",
       "    <tr>\n",
       "      <th>91</th>\n",
       "      <td>polyethene</td>\n",
       "      <td>P010001</td>\n",
       "      <td>CH2</td>\n",
       "      <td>Other physical property</td>\n",
       "      <td>Radiation resistance</td>\n",
       "      <td>26</td>\n",
       "      <td>39970.808057</td>\n",
       "      <td>Mrad</td>\n",
       "    </tr>\n",
       "    <tr>\n",
       "      <th>92</th>\n",
       "      <td>polyethene</td>\n",
       "      <td>P010001</td>\n",
       "      <td>CH2</td>\n",
       "      <td>Polymer Information</td>\n",
       "      <td>SMILES</td>\n",
       "      <td>*C*</td>\n",
       "      <td></td>\n",
       "      <td>NaN</td>\n",
       "    </tr>\n",
       "  </tbody>\n",
       "</table>\n",
       "<p>93 rows × 8 columns</p>\n",
       "</div>"
      ],
      "text/plain": [
       "   polymer_name polymer_id cu_formula        property_category  \\\n",
       "0    polyethene    P010001        CH2        Physical property   \n",
       "1    polyethene    P010001        CH2        Physical property   \n",
       "2    polyethene    P010001        CH2         Optical property   \n",
       "3    polyethene    P010001        CH2         Thermal property   \n",
       "4    polyethene    P010001        CH2         Thermal property   \n",
       "..          ...        ...        ...                      ...   \n",
       "88   polyethene    P010001        CH2  Other physical property   \n",
       "89   polyethene    P010001        CH2  Other physical property   \n",
       "90   polyethene    P010001        CH2  Other physical property   \n",
       "91   polyethene    P010001        CH2  Other physical property   \n",
       "92   polyethene    P010001        CH2      Polymer Information   \n",
       "\n",
       "                   property_name property_value_median  \\\n",
       "0                        Density                0.9362   \n",
       "1                Specific volume                 1.073   \n",
       "2               Refractive index                 1.531   \n",
       "3     Crystallization kinetics r                 79175   \n",
       "4     Crystallization kinetics k                0.0617   \n",
       "..                           ...                   ...   \n",
       "88         Pvt relation pressure                    55   \n",
       "89  Pvt relation specific volume                 1.127   \n",
       "90      Pvt relation temperature                   180   \n",
       "91          Radiation resistance                    26   \n",
       "92                        SMILES                   *C*   \n",
       "\n",
       "   property_value_variance property_unit  \n",
       "0                 0.010564         g/cm3  \n",
       "1                12.574191         cm3/g  \n",
       "2                  0.00091           NaN  \n",
       "3         122911964.285714          nm/s  \n",
       "4                  0.58551           NaN  \n",
       "..                     ...           ...  \n",
       "88            42001.909205           MPa  \n",
       "89                  0.0146         cm3/g  \n",
       "90          4496404.537488             C  \n",
       "91            39970.808057          Mrad  \n",
       "92                                   NaN  \n",
       "\n",
       "[93 rows x 8 columns]"
      ]
     },
     "execution_count": 24,
     "metadata": {},
     "output_type": "execute_result"
    }
   ],
   "source": [
    "# Show the dataframe in the list associated with the first entry (polyethene)\n",
    "poly_list[0]"
   ]
  },
  {
   "cell_type": "markdown",
   "id": "43cfec13-0407-468c-a71a-4387c1e2d881",
   "metadata": {},
   "source": [
    "Use a similar method to the way we separated up the larger data frame to count the number of parameters we have for each polymer in the `poly_list`dataframe.  Append this to len_list"
   ]
  },
  {
   "cell_type": "code",
   "execution_count": 27,
   "id": "ecf797a1-7650-4700-a90a-3093ed3b4d4e",
   "metadata": {
    "tags": []
   },
   "outputs": [],
   "source": [
    "len_list = []\n",
    "for pp in range(len(poly_list)):\n",
    "    len_pp = len(poly_list[pp])\n",
    "    len_list.append(len_pp)"
   ]
  },
  {
   "cell_type": "markdown",
   "id": "535d6676-d073-48cc-9e75-7a6e688f29e5",
   "metadata": {},
   "source": [
    "Use the same iteration methodology to generate a list of polymer names present in `poly_list`"
   ]
  },
  {
   "cell_type": "code",
   "execution_count": 28,
   "id": "26cc869d-1ad8-4156-af27-52725b956477",
   "metadata": {
    "tags": []
   },
   "outputs": [],
   "source": [
    "poly_names_list = []\n",
    "for n in range(len(poly_list)):\n",
    "    name_n = list(poly_list[n]['polymer_name'])[0]\n",
    "    poly_names_list.append(name_n)"
   ]
  },
  {
   "cell_type": "code",
   "execution_count": 33,
   "id": "66248e42-8b5a-46b4-8060-465efed50672",
   "metadata": {
    "tags": []
   },
   "outputs": [
    {
     "name": "stdout",
     "output_type": "stream",
     "text": [
      "18,312\n"
     ]
    }
   ],
   "source": [
    "print(f'{len(poly_names_list):,}')"
   ]
  },
  {
   "cell_type": "markdown",
   "id": "d435db7c-39d8-451d-bd3b-def6c748b525",
   "metadata": {},
   "source": [
    "Extract a list of properties avaliable for each polymer in the list `poly_list``\n"
   ]
  },
  {
   "cell_type": "code",
   "execution_count": 34,
   "id": "bdc685d3-e738-41b3-9666-b6aea7178a1f",
   "metadata": {
    "tags": []
   },
   "outputs": [],
   "source": [
    "poly_feats_list = []\n",
    "for f in range(len(poly_list)):\n",
    "    feat_n = list(poly_list[f]['property_name'])\n",
    "    poly_feats_list.append(feat_n)"
   ]
  },
  {
   "cell_type": "markdown",
   "id": "e3e8980d-1c38-453c-bbc6-73a4acb8f12f",
   "metadata": {},
   "source": [
    "Take the three lists we produce a dictionary to aggregate information about polymers, including their names, the number of features (properties), and the names of these features. \n",
    "\n",
    "\n",
    "* **'polymer_name': poly_names_list:** Associates the key **'polymer_name'** with the list **poly_names_list**, which contains the names of polymers. This list was prepared by iterating over a list of DataFrames (`poly_list`), extracting the name of the polymer from each DataFrame, and storing these names.\n",
    "* **'Number of features': len_list:** Links the key **'Number of features'** with the list **len_list**, which records the number of features for each polymer. This list was filled by iterating over `poly_list`, determining the length of the DataFrame (or specifically, the number of rows in the **'property_name'** column) for each polymer, and adding these lengths to **len_list**.\n",
    "* **'Features names': poly_feats_list:** Connects the key **'Features names'** with the list **poly_feats_list**, containing lists of feature names for each polymer. This list of lists was compiled by iterating over `poly_list`, extracting all the feature names (values from the **'property_name'** column) for each polymer, and appending these lists to **poly_feats_list**."
   ]
  },
  {
   "cell_type": "code",
   "execution_count": 36,
   "id": "1383c457-d912-4aaa-98f0-c54565cac60b",
   "metadata": {
    "tags": []
   },
   "outputs": [],
   "source": [
    "df_poly_feats = {'polymer_name': poly_names_list, \n",
    "                 'Number of features': len_list,\n",
    "                'Features names': poly_feats_list}"
   ]
  },
  {
   "cell_type": "markdown",
   "id": "260ef8b9-db61-40bf-aaa0-09a73b52898f",
   "metadata": {},
   "source": [
    "This dictionary is structured to be directly convertible into a pandas DataFrame.\n",
    "The utility of creating a structured DataFrame (`df_poly_feats`) from the `poly_list` and associated information, rather than using `poly_list` directly, hinges on several factors that enhance data analysis, presentation, and manipulation capabilities. "
   ]
  },
  {
   "cell_type": "code",
   "execution_count": 40,
   "id": "702d124a-ffbb-405e-850d-55cf5c3ada81",
   "metadata": {
    "tags": []
   },
   "outputs": [
    {
     "data": {
      "text/html": [
       "<div>\n",
       "<style scoped>\n",
       "    .dataframe tbody tr th:only-of-type {\n",
       "        vertical-align: middle;\n",
       "    }\n",
       "\n",
       "    .dataframe tbody tr th {\n",
       "        vertical-align: top;\n",
       "    }\n",
       "\n",
       "    .dataframe thead th {\n",
       "        text-align: right;\n",
       "    }\n",
       "</style>\n",
       "<table border=\"1\" class=\"dataframe\">\n",
       "  <thead>\n",
       "    <tr style=\"text-align: right;\">\n",
       "      <th></th>\n",
       "      <th>polymer_name</th>\n",
       "      <th>Number of features</th>\n",
       "      <th>Features names</th>\n",
       "    </tr>\n",
       "  </thead>\n",
       "  <tbody>\n",
       "    <tr>\n",
       "      <th>0</th>\n",
       "      <td>polyethene</td>\n",
       "      <td>93</td>\n",
       "      <td>[Density, Specific volume, Refractive index, C...</td>\n",
       "    </tr>\n",
       "    <tr>\n",
       "      <th>1</th>\n",
       "      <td>poly(prop-1-ene)</td>\n",
       "      <td>86</td>\n",
       "      <td>[Density, Specific volume, Refractive index, C...</td>\n",
       "    </tr>\n",
       "    <tr>\n",
       "      <th>2</th>\n",
       "      <td>poly(but-1-ene)</td>\n",
       "      <td>41</td>\n",
       "      <td>[Density, Specific volume, Refractive index, C...</td>\n",
       "    </tr>\n",
       "    <tr>\n",
       "      <th>3</th>\n",
       "      <td>poly(pent-1-ene)</td>\n",
       "      <td>16</td>\n",
       "      <td>[Density, Specific volume, Glass transition te...</td>\n",
       "    </tr>\n",
       "    <tr>\n",
       "      <th>4</th>\n",
       "      <td>poly(3-methylbut-1-ene)</td>\n",
       "      <td>15</td>\n",
       "      <td>[Density, Specific volume, Glass transition te...</td>\n",
       "    </tr>\n",
       "  </tbody>\n",
       "</table>\n",
       "</div>"
      ],
      "text/plain": [
       "              polymer_name  Number of features  \\\n",
       "0               polyethene                  93   \n",
       "1         poly(prop-1-ene)                  86   \n",
       "2          poly(but-1-ene)                  41   \n",
       "3         poly(pent-1-ene)                  16   \n",
       "4  poly(3-methylbut-1-ene)                  15   \n",
       "\n",
       "                                      Features names  \n",
       "0  [Density, Specific volume, Refractive index, C...  \n",
       "1  [Density, Specific volume, Refractive index, C...  \n",
       "2  [Density, Specific volume, Refractive index, C...  \n",
       "3  [Density, Specific volume, Glass transition te...  \n",
       "4  [Density, Specific volume, Glass transition te...  "
      ]
     },
     "execution_count": 40,
     "metadata": {},
     "output_type": "execute_result"
    }
   ],
   "source": [
    "ddf = pd.DataFrame(df_poly_feats)\n",
    "ddf.head()"
   ]
  },
  {
   "cell_type": "markdown",
   "id": "a4f9f562-754b-48d5-91af-85823d5b7e81",
   "metadata": {},
   "source": [
    "#### The advantage of structuring the data in this way:\n",
    "1. **Structured Representation:**\n",
    "Clarity and Accessibility: A DataFrame provides a tabular structure that is intuitive to work with. It clearly delineates polymer names, the number of features, and the features themselves in separate columns, making data access and manipulation straightforward.\n",
    "Integration of Related Data: By consolidating polymer names, the number of features, and feature names into a single DataFrame, you establish a direct relationship among these elements. This integrated view facilitates analyses that involve multiple aspects of the data simultaneously.\n",
    "2. **Enhanced Data Analysis Capabilities:**\n",
    "Built-in Functions: pandas DataFrames support a wide array of built-in functions for data analysis, including statistical summaries, group-by operations, and pivot tables, which are not as readily accessible or efficient with a list of DataFrames or lists.\n",
    "Filtering and Selection: Identifying and extracting data based on certain criteria (e.g., polymers with a specific number of features) is more straightforward with DataFrame operations.\n",
    "3. **Ease of Data Manipulation:**\n",
    "Modification: Adding, removing, or modifying data (such as adding another feature or updating feature names) is more efficient in a DataFrame structure. Changes can be applied across multiple rows or columns with simple commands.\n",
    "Reshaping and Pivoting: Transforming the dataset to fit specific analysis needs (like pivoting or melting data for different views) is facilitated by DataFrame methods.\n",
    "4. **Improved Data Visualization:**\n",
    "Direct Plotting: pandas DataFrames integrate seamlessly with visualization libraries like matplotlib and seaborn, allowing for direct plotting of data. Visualizing the distribution of features across polymers or comparing the number of features between polymers can be achieved with minimal code.\n",
    "5. **Data Export and Sharing:**\n",
    "Interoperability: DataFrames can be easily exported to various formats (CSV, Excel, JSON) for sharing or further analysis, offering flexibility not inherently available with a custom list structure like poly_list.\n",
    "6. **Error Reduction:**\n",
    "Consistency: By structuring data into a DataFrame, you ensure a consistent format, which can reduce errors in data handling and analysis. The tabular format enforces a uniform structure, potentially catching inconsistencies in data types or missing values."
   ]
  },
  {
   "cell_type": "code",
   "execution_count": 42,
   "id": "7e5e7ff0-e748-4168-9867-88aa003dc705",
   "metadata": {
    "tags": []
   },
   "outputs": [],
   "source": [
    "# We export this data just as a nice check point and to have it handy wen needed\n",
    "ddf.to_excel(\"polymers_number_of_features.xlsx\", index=True)"
   ]
  },
  {
   "cell_type": "code",
   "execution_count": 44,
   "id": "edfa6c0a-5d2a-480b-b0e7-ae0e253a84b9",
   "metadata": {
    "tags": []
   },
   "outputs": [
    {
     "data": {
      "text/html": [
       "<div>\n",
       "<style scoped>\n",
       "    .dataframe tbody tr th:only-of-type {\n",
       "        vertical-align: middle;\n",
       "    }\n",
       "\n",
       "    .dataframe tbody tr th {\n",
       "        vertical-align: top;\n",
       "    }\n",
       "\n",
       "    .dataframe thead th {\n",
       "        text-align: right;\n",
       "    }\n",
       "</style>\n",
       "<table border=\"1\" class=\"dataframe\">\n",
       "  <thead>\n",
       "    <tr style=\"text-align: right;\">\n",
       "      <th></th>\n",
       "      <th>Unnamed: 0</th>\n",
       "      <th>polymer_name</th>\n",
       "      <th>Number of features</th>\n",
       "      <th>Features names</th>\n",
       "    </tr>\n",
       "  </thead>\n",
       "  <tbody>\n",
       "    <tr>\n",
       "      <th>0</th>\n",
       "      <td>0</td>\n",
       "      <td>polyethene</td>\n",
       "      <td>93</td>\n",
       "      <td>['Density', 'Specific volume', 'Refractive ind...</td>\n",
       "    </tr>\n",
       "    <tr>\n",
       "      <th>1</th>\n",
       "      <td>1</td>\n",
       "      <td>poly(prop-1-ene)</td>\n",
       "      <td>86</td>\n",
       "      <td>['Density', 'Specific volume', 'Refractive ind...</td>\n",
       "    </tr>\n",
       "    <tr>\n",
       "      <th>2</th>\n",
       "      <td>2</td>\n",
       "      <td>poly(but-1-ene)</td>\n",
       "      <td>41</td>\n",
       "      <td>['Density', 'Specific volume', 'Refractive ind...</td>\n",
       "    </tr>\n",
       "    <tr>\n",
       "      <th>3</th>\n",
       "      <td>3</td>\n",
       "      <td>poly(pent-1-ene)</td>\n",
       "      <td>16</td>\n",
       "      <td>['Density', 'Specific volume', 'Glass transiti...</td>\n",
       "    </tr>\n",
       "    <tr>\n",
       "      <th>4</th>\n",
       "      <td>4</td>\n",
       "      <td>poly(3-methylbut-1-ene)</td>\n",
       "      <td>15</td>\n",
       "      <td>['Density', 'Specific volume', 'Glass transiti...</td>\n",
       "    </tr>\n",
       "  </tbody>\n",
       "</table>\n",
       "</div>"
      ],
      "text/plain": [
       "   Unnamed: 0             polymer_name  Number of features  \\\n",
       "0           0               polyethene                  93   \n",
       "1           1         poly(prop-1-ene)                  86   \n",
       "2           2          poly(but-1-ene)                  41   \n",
       "3           3         poly(pent-1-ene)                  16   \n",
       "4           4  poly(3-methylbut-1-ene)                  15   \n",
       "\n",
       "                                      Features names  \n",
       "0  ['Density', 'Specific volume', 'Refractive ind...  \n",
       "1  ['Density', 'Specific volume', 'Refractive ind...  \n",
       "2  ['Density', 'Specific volume', 'Refractive ind...  \n",
       "3  ['Density', 'Specific volume', 'Glass transiti...  \n",
       "4  ['Density', 'Specific volume', 'Glass transiti...  "
      ]
     },
     "execution_count": 44,
     "metadata": {},
     "output_type": "execute_result"
    }
   ],
   "source": [
    "# And import it back just because we can and check the first rows \n",
    "df = pd.read_excel('polymers_number_of_features.xlsx')\n",
    "df.head()"
   ]
  },
  {
   "cell_type": "code",
   "execution_count": 45,
   "id": "cc3ee8bf-075e-4963-9822-de5d531c9475",
   "metadata": {
    "tags": []
   },
   "outputs": [
    {
     "data": {
      "text/plain": [
       "\"['Density', 'Specific volume', 'Glass transition temperature', 'Melting temperature', 'Specific heat capacity cp', 'Specific heat capacity cv', 'Gas permeability coefficient p', 'Intrinsic viscosity eta', 'Radius of gyration', 'Softening temperature', 'SMILES']\""
      ]
     },
     "execution_count": 45,
     "metadata": {},
     "output_type": "execute_result"
    }
   ],
   "source": [
    "# Do some checking to ensure the df has the same data as in poly_list\n",
    "df['Features names'][5]"
   ]
  },
  {
   "cell_type": "markdown",
   "id": "734fb975-899c-45fe-9775-b752d31929ee",
   "metadata": {},
   "source": [
    "Output the fifth df member of poly_list so that we can check our methods of manipulation below."
   ]
  },
  {
   "cell_type": "code",
   "execution_count": 46,
   "id": "398d3ac8-ef92-4aac-8401-b6306214f2bd",
   "metadata": {
    "tags": []
   },
   "outputs": [
    {
     "data": {
      "text/html": [
       "<div>\n",
       "<style scoped>\n",
       "    .dataframe tbody tr th:only-of-type {\n",
       "        vertical-align: middle;\n",
       "    }\n",
       "\n",
       "    .dataframe tbody tr th {\n",
       "        vertical-align: top;\n",
       "    }\n",
       "\n",
       "    .dataframe thead th {\n",
       "        text-align: right;\n",
       "    }\n",
       "</style>\n",
       "<table border=\"1\" class=\"dataframe\">\n",
       "  <thead>\n",
       "    <tr style=\"text-align: right;\">\n",
       "      <th></th>\n",
       "      <th>polymer_name</th>\n",
       "      <th>polymer_id</th>\n",
       "      <th>cu_formula</th>\n",
       "      <th>property_category</th>\n",
       "      <th>property_name</th>\n",
       "      <th>property_value_median</th>\n",
       "      <th>property_value_variance</th>\n",
       "      <th>property_unit</th>\n",
       "    </tr>\n",
       "  </thead>\n",
       "  <tbody>\n",
       "    <tr>\n",
       "      <th>244</th>\n",
       "      <td>poly(hex-1-ene)</td>\n",
       "      <td>P010007</td>\n",
       "      <td>C6H12</td>\n",
       "      <td>Physical property</td>\n",
       "      <td>Density</td>\n",
       "      <td>0.854</td>\n",
       "      <td>0.003341</td>\n",
       "      <td>g/cm3</td>\n",
       "    </tr>\n",
       "    <tr>\n",
       "      <th>245</th>\n",
       "      <td>poly(hex-1-ene)</td>\n",
       "      <td>P010007</td>\n",
       "      <td>C6H12</td>\n",
       "      <td>Physical property</td>\n",
       "      <td>Specific volume</td>\n",
       "      <td>1.182</td>\n",
       "      <td>0.009742</td>\n",
       "      <td>cm3/g</td>\n",
       "    </tr>\n",
       "    <tr>\n",
       "      <th>246</th>\n",
       "      <td>poly(hex-1-ene)</td>\n",
       "      <td>P010007</td>\n",
       "      <td>C6H12</td>\n",
       "      <td>Thermal property</td>\n",
       "      <td>Glass transition temperature</td>\n",
       "      <td>-48.3</td>\n",
       "      <td>61.255282</td>\n",
       "      <td>C</td>\n",
       "    </tr>\n",
       "    <tr>\n",
       "      <th>247</th>\n",
       "      <td>poly(hex-1-ene)</td>\n",
       "      <td>P010007</td>\n",
       "      <td>C6H12</td>\n",
       "      <td>Thermal property</td>\n",
       "      <td>Melting temperature</td>\n",
       "      <td>30</td>\n",
       "      <td>7168.266667</td>\n",
       "      <td>C</td>\n",
       "    </tr>\n",
       "    <tr>\n",
       "      <th>248</th>\n",
       "      <td>poly(hex-1-ene)</td>\n",
       "      <td>P010007</td>\n",
       "      <td>C6H12</td>\n",
       "      <td>Thermal property</td>\n",
       "      <td>Specific heat capacity cp</td>\n",
       "      <td>0.4586</td>\n",
       "      <td>0.017784</td>\n",
       "      <td>cal/(g*C)</td>\n",
       "    </tr>\n",
       "    <tr>\n",
       "      <th>249</th>\n",
       "      <td>poly(hex-1-ene)</td>\n",
       "      <td>P010007</td>\n",
       "      <td>C6H12</td>\n",
       "      <td>Thermal property</td>\n",
       "      <td>Specific heat capacity cv</td>\n",
       "      <td>0.291</td>\n",
       "      <td>0</td>\n",
       "      <td>cal/(g*C)</td>\n",
       "    </tr>\n",
       "    <tr>\n",
       "      <th>250</th>\n",
       "      <td>poly(hex-1-ene)</td>\n",
       "      <td>P010007</td>\n",
       "      <td>C6H12</td>\n",
       "      <td>Physicochemical property</td>\n",
       "      <td>Gas permeability coefficient p</td>\n",
       "      <td>0.0</td>\n",
       "      <td>0.0</td>\n",
       "      <td>cm3(STP)cm/(cm2*s*Pa)</td>\n",
       "    </tr>\n",
       "    <tr>\n",
       "      <th>251</th>\n",
       "      <td>poly(hex-1-ene)</td>\n",
       "      <td>P010007</td>\n",
       "      <td>C6H12</td>\n",
       "      <td>Dilute solution property</td>\n",
       "      <td>Intrinsic viscosity eta</td>\n",
       "      <td>0.29</td>\n",
       "      <td>2.13798</td>\n",
       "      <td>dl/g</td>\n",
       "    </tr>\n",
       "    <tr>\n",
       "      <th>252</th>\n",
       "      <td>poly(hex-1-ene)</td>\n",
       "      <td>P010007</td>\n",
       "      <td>C6H12</td>\n",
       "      <td>Dilute solution property</td>\n",
       "      <td>Radius of gyration</td>\n",
       "      <td>9.83</td>\n",
       "      <td>0.007707</td>\n",
       "      <td>nm</td>\n",
       "    </tr>\n",
       "    <tr>\n",
       "      <th>253</th>\n",
       "      <td>poly(hex-1-ene)</td>\n",
       "      <td>P010007</td>\n",
       "      <td>C6H12</td>\n",
       "      <td>Heat characteristics</td>\n",
       "      <td>Softening temperature</td>\n",
       "      <td>-36</td>\n",
       "      <td>0</td>\n",
       "      <td>C</td>\n",
       "    </tr>\n",
       "    <tr>\n",
       "      <th>254</th>\n",
       "      <td>poly(hex-1-ene)</td>\n",
       "      <td>P010007</td>\n",
       "      <td>C6H12</td>\n",
       "      <td>Polymer Information</td>\n",
       "      <td>SMILES</td>\n",
       "      <td>CCCCC(C*)*</td>\n",
       "      <td></td>\n",
       "      <td>NaN</td>\n",
       "    </tr>\n",
       "  </tbody>\n",
       "</table>\n",
       "</div>"
      ],
      "text/plain": [
       "        polymer_name polymer_id cu_formula         property_category  \\\n",
       "244  poly(hex-1-ene)    P010007      C6H12         Physical property   \n",
       "245  poly(hex-1-ene)    P010007      C6H12         Physical property   \n",
       "246  poly(hex-1-ene)    P010007      C6H12          Thermal property   \n",
       "247  poly(hex-1-ene)    P010007      C6H12          Thermal property   \n",
       "248  poly(hex-1-ene)    P010007      C6H12          Thermal property   \n",
       "249  poly(hex-1-ene)    P010007      C6H12          Thermal property   \n",
       "250  poly(hex-1-ene)    P010007      C6H12  Physicochemical property   \n",
       "251  poly(hex-1-ene)    P010007      C6H12  Dilute solution property   \n",
       "252  poly(hex-1-ene)    P010007      C6H12  Dilute solution property   \n",
       "253  poly(hex-1-ene)    P010007      C6H12      Heat characteristics   \n",
       "254  poly(hex-1-ene)    P010007      C6H12       Polymer Information   \n",
       "\n",
       "                      property_name property_value_median  \\\n",
       "244                         Density                 0.854   \n",
       "245                 Specific volume                 1.182   \n",
       "246    Glass transition temperature                 -48.3   \n",
       "247             Melting temperature                    30   \n",
       "248       Specific heat capacity cp                0.4586   \n",
       "249       Specific heat capacity cv                 0.291   \n",
       "250  Gas permeability coefficient p                   0.0   \n",
       "251         Intrinsic viscosity eta                  0.29   \n",
       "252              Radius of gyration                  9.83   \n",
       "253           Softening temperature                   -36   \n",
       "254                          SMILES            CCCCC(C*)*   \n",
       "\n",
       "    property_value_variance          property_unit  \n",
       "244                0.003341                  g/cm3  \n",
       "245                0.009742                  cm3/g  \n",
       "246               61.255282                      C  \n",
       "247             7168.266667                      C  \n",
       "248                0.017784              cal/(g*C)  \n",
       "249                       0              cal/(g*C)  \n",
       "250                     0.0  cm3(STP)cm/(cm2*s*Pa)  \n",
       "251                 2.13798                   dl/g  \n",
       "252                0.007707                     nm  \n",
       "253                       0                      C  \n",
       "254                                            NaN  "
      ]
     },
     "execution_count": 46,
     "metadata": {},
     "output_type": "execute_result"
    }
   ],
   "source": [
    "poly_list[5]"
   ]
  },
  {
   "cell_type": "markdown",
   "id": "c3771fbc-fbcf-4400-87e7-bab75bb66324",
   "metadata": {},
   "source": [
    "Access the first feature name in the list stored in the Features names column of the sixth row, concatenate '_cfdf' to this feature name, it returns the concatenated string."
   ]
  },
  {
   "cell_type": "code",
   "execution_count": 51,
   "id": "4f13ff10-6881-4f5f-aca6-a4712199fd26",
   "metadata": {
    "tags": []
   },
   "outputs": [
    {
     "data": {
      "text/plain": [
       "'Specific heat capacity cv_cfdf'"
      ]
     },
     "execution_count": 51,
     "metadata": {},
     "output_type": "execute_result"
    }
   ],
   "source": [
    "# Check that we can concatenate to dataframes\n",
    "ddf['Features names'][5][0] +'_' +'cfdf'"
   ]
  },
  {
   "cell_type": "markdown",
   "id": "f58c3eff-79f1-4b92-8ab4-32aca0421266",
   "metadata": {},
   "source": [
    "Access a specific DataFrame within the list of DataFrames (`poly_list`), and then filter that DataFrame based on a condition involving the `property_name` column. Specifically, filter the sixth DataFrame in `poly_list `(since Python uses zero-based indexing, poly_list[5] refers to the sixth element) for rows where the value in the `property_name` column matches the fifth feature name in the list of feature names stored in the sixth row of the `ddf` DataFrame's Features names column. \n",
    "\n",
    "Here's a breakdown:\n",
    "\n",
    "* poly_list[5]: This accesses the sixth DataFrame within poly_list.\n",
    "* poly_list[5]['property_name']: This selects the property_name column of the sixth DataFrame.\n",
    "* ddf['Features names'][5][4]: This retrieves the fifth feature name from the list of feature names in the sixth row of ddf's Features names column. *Remember, both indices are zero-based, so this expression points to what would commonly be referred to as the fifth feature name of the sixth polymer.*\n",
    "\n",
    "The complete expression filters the sixth DataFrame in poly_list to include only those rows where the property_name matches the specified feature name from ddf."
   ]
  },
  {
   "cell_type": "code",
   "execution_count": 49,
   "id": "9724b45c-5a12-4126-9e99-9bf831847bf8",
   "metadata": {
    "tags": []
   },
   "outputs": [
    {
     "data": {
      "text/html": [
       "<div>\n",
       "<style scoped>\n",
       "    .dataframe tbody tr th:only-of-type {\n",
       "        vertical-align: middle;\n",
       "    }\n",
       "\n",
       "    .dataframe tbody tr th {\n",
       "        vertical-align: top;\n",
       "    }\n",
       "\n",
       "    .dataframe thead th {\n",
       "        text-align: right;\n",
       "    }\n",
       "</style>\n",
       "<table border=\"1\" class=\"dataframe\">\n",
       "  <thead>\n",
       "    <tr style=\"text-align: right;\">\n",
       "      <th></th>\n",
       "      <th>polymer_name</th>\n",
       "      <th>polymer_id</th>\n",
       "      <th>cu_formula</th>\n",
       "      <th>property_category</th>\n",
       "      <th>property_name</th>\n",
       "      <th>property_value_median</th>\n",
       "      <th>property_value_variance</th>\n",
       "      <th>property_unit</th>\n",
       "    </tr>\n",
       "  </thead>\n",
       "  <tbody>\n",
       "    <tr>\n",
       "      <th>248</th>\n",
       "      <td>poly(hex-1-ene)</td>\n",
       "      <td>P010007</td>\n",
       "      <td>C6H12</td>\n",
       "      <td>Thermal property</td>\n",
       "      <td>Specific heat capacity cp</td>\n",
       "      <td>0.4586</td>\n",
       "      <td>0.017784</td>\n",
       "      <td>cal/(g*C)</td>\n",
       "    </tr>\n",
       "  </tbody>\n",
       "</table>\n",
       "</div>"
      ],
      "text/plain": [
       "        polymer_name polymer_id cu_formula property_category  \\\n",
       "248  poly(hex-1-ene)    P010007      C6H12  Thermal property   \n",
       "\n",
       "                 property_name property_value_median property_value_variance  \\\n",
       "248  Specific heat capacity cp                0.4586                0.017784   \n",
       "\n",
       "    property_unit  \n",
       "248     cal/(g*C)  "
      ]
     },
     "execution_count": 49,
     "metadata": {},
     "output_type": "execute_result"
    }
   ],
   "source": [
    "#Check that we can nicely access certain parts of the dataframe\n",
    "poly_list[5][poly_list[5]['property_name'] == ddf['Features names'][5][4]]"
   ]
  },
  {
   "cell_type": "markdown",
   "id": "e2715d8f-e5b4-48de-82b1-32afe89062d1",
   "metadata": {},
   "source": [
    "This code block iterates over the feature names listed for the sixth polymer in ddf['Features names'][5] and extracts specific statistics and units for each feature from the corresponding sixth DataFrame in poly_list. It organizes this extracted data into separate lists for median values, variance values, and units of the properties, along with their associated names. \n",
    "\n",
    "Here's a detailed explanation of each part:\n",
    "\n",
    "* Initialization of Lists: Six lists are initialized to store the median values, variance values, and units for the features, along with their corresponding names. These lists will be populated with the extracted data for each feature of the polymer.\n",
    "* Looping Over Feature Names: The loop iterates over each feature name for the sixth polymer in ddf.\n",
    "* Extracting Median Values: For each feature, the code filters the sixth DataFrame in `poly_list` to rows where the `property_name` matches the current feature name being processed. It then selects the `property_value_median column`, converts it to a list, and takes the first element. This value is the median value of the property. A corresponding name for this median value is constructed by appending `_value_median` to the feature name and stored in `feat_median_values_name_l`.\n",
    "* Extracting Variance Values: Similarly, the variance value for the property is extracted by filtering on the same feature name and selecting the `property_value_variance` column. The first element of this list is the variance value of the property. A corresponding name for this variance value is created by appending `_value_variance` to the feature name and stored in `feat_variance_values_name_l`.\n",
    "* Extracting Units: The unit for the property is extracted by filtering on the feature name and selecting the `property_unit` column. The first element of this list is the unit of the property. A corresponding name for this unit is constructed by appending `_unit` to the feature name and stored in `feat_unity_name_l`.\n",
    "* Appending Extracted Data to Lists: The extracted median values, variance values, and units are appended to their respective lists (`feat_median_values_l`, `feat_variance_values_l`, `feat_unity_l`). The constructed names for these values are also appended to their respective name lists."
   ]
  },
  {
   "cell_type": "code",
   "execution_count": 52,
   "id": "27342240-091e-4fb4-9399-739d1c1c9ac9",
   "metadata": {
    "tags": []
   },
   "outputs": [],
   "source": [
    "feat_median_values_l = []\n",
    "feat_variance_values_l = []\n",
    "feat_unity_l = []\n",
    "\n",
    "feat_median_values_name_l = []\n",
    "feat_variance_values_name_l = []\n",
    "feat_unity_name_l = []\n",
    "\n",
    "for l in range(len(ddf['Features names'][5])):\n",
    "    \n",
    "    feat_median_l = list(poly_list[5][poly_list[5]['property_name'] == ddf['Features names'][5][l]]['property_value_median'])[0]\n",
    "    feat_median_name_l = ddf['Features names'][5][l] + '_value_median'\n",
    "    \n",
    "    feat_variance_l = list(poly_list[5][poly_list[5]['property_name'] == ddf['Features names'][5][l]]['property_value_variance'])[0]\n",
    "    feat_variance_name_l = ddf['Features names'][5][l] + '_value_variance'\n",
    "    \n",
    "    feat_property_unit_l = list(poly_list[5][poly_list[5]['property_name'] == ddf['Features names'][5][l]]['property_unit'])[0]\n",
    "    feat_unit_name_l = ddf['Features names'][5][l] + '_unit'    \n",
    "    \n",
    "    feat_median_values_l.append(feat_median_l)\n",
    "    feat_variance_values_l.append(feat_variance_l)\n",
    "    feat_unity_l.append(feat_property_unit_l)\n",
    "    \n",
    "    feat_median_values_name_l.append(feat_median_name_l)\n",
    "    feat_variance_values_name_l.append(feat_variance_name_l)\n",
    "    feat_unity_name_l.append(feat_unit_name_l)"
   ]
  },
  {
   "cell_type": "markdown",
   "id": "9efa46a1-af4a-4b7c-886c-239b68e2cafe",
   "metadata": {},
   "source": [
    "Now we can apply this to all polymers in the list"
   ]
  },
  {
   "cell_type": "code",
   "execution_count": 53,
   "id": "6ae3f166-306b-4757-b6be-9026838b1c71",
   "metadata": {
    "tags": []
   },
   "outputs": [],
   "source": [
    "median_all = []\n",
    "variance_all = []\n",
    "unity_all = []\n",
    "\n",
    "median_names_all = []\n",
    "variance_names_all = []\n",
    "unity_names_all = []\n",
    "\n",
    "for s in range(len(poly_list)):\n",
    "    feat_median_values_l = []\n",
    "    feat_variance_values_l = []\n",
    "    feat_unity_l = []\n",
    "\n",
    "    feat_median_values_name_l = []\n",
    "    feat_variance_values_name_l = []\n",
    "    feat_unity_name_l = []\n",
    "\n",
    "    for l in range(len(ddf['Features names'][s])):\n",
    "\n",
    "        feat_median_l = list(poly_list[s][poly_list[s]['property_name'] == ddf['Features names'][s][l]]['property_value_median'])[0]\n",
    "        feat_median_name_l = ddf['Features names'][s][l] + '_value_median'\n",
    "\n",
    "        feat_variance_l = list(poly_list[s][poly_list[s]['property_name'] == ddf['Features names'][s][l]]['property_value_variance'])[0]\n",
    "        feat_variance_name_l = ddf['Features names'][s][l] + '_value_variance'\n",
    "\n",
    "        feat_property_unit_l = list(poly_list[s][poly_list[s]['property_name'] == ddf['Features names'][s][l]]['property_unit'])[0]\n",
    "        feat_unit_name_l = ddf['Features names'][s][l] + '_unit'   \n",
    "\n",
    "        feat_median_values_l.append(feat_median_l)\n",
    "        feat_variance_values_l.append(feat_variance_l)\n",
    "        feat_unity_l.append(feat_property_unit_l)\n",
    "\n",
    "        feat_median_values_name_l.append(feat_median_name_l)\n",
    "        feat_variance_values_name_l.append(feat_variance_name_l)\n",
    "        feat_unity_name_l.append(feat_unit_name_l)\n",
    "    \n",
    "    median_all.append(feat_median_values_l)\n",
    "    variance_all.append(feat_variance_values_l)\n",
    "    unity_all.append(feat_unity_l)\n",
    "    \n",
    "    median_names_all.append(feat_median_values_name_l)\n",
    "    variance_names_all.append(feat_variance_values_name_l)\n",
    "    unity_names_all.append(feat_unity_name_l)\n"
   ]
  },
  {
   "cell_type": "markdown",
   "id": "89387126-e080-4405-9802-5ee588eccffb",
   "metadata": {},
   "source": [
    "We are iterating over each polymer in `poly_list` and for each feature of that polymer as listed in `ddf['Features names']`. For each feature, we calculate three specific properties: median value, variance, and unit. These values are then stored in separate lists (`median_all`, `variance_all`, `unity_all`) along with their corresponding names (`median_names_all`, `variance_names_all`, `unity_names_all`). \n",
    "\n",
    "Here's a step-by-step explanation of what this code does:\n",
    "\n",
    "* Initialization: For each polymer in poly_list, it initializes six temporary lists to hold the median values, variance values, and units for each property, as well as the names for these categories.\n",
    "* Nested Loop:\n",
    "    The outer loop [s] iterates over each polymer in `poly_list`.\n",
    "    The inner loop [l] iterates over each feature name for the current polymer as specified in `ddf['Features names']`.\n",
    "* Data Extraction: Within the inner loop, for each feature: It filters the current polymer's DataFrame (`poly_list[s]`) for rows where the property_name matches the current feature name (`ddf['Features names'][s][l]`). It extracts the median value, variance, and unit of the property from the filtered DataFrame and also constructs the names for these metrics by appending suffixes (`_value_median`, `_value_variance`, _`unit`) to the feature name.\n",
    "* Appending Values: The extracted values and their constructed names are appended to the respective temporary lists.\n",
    "* Aggregating Results: After processing all features of a polymer, the temporary lists are appended to the corresponding \"all\" lists (`median_all`, `variance_all`, `unity_all`, `median_names_all`, `variance_names_all`, `unity_names_all`), which aggregate the values and names across all polymers."
   ]
  },
  {
   "cell_type": "markdown",
   "id": "978e49b6-33af-4e0e-9d3c-17a54d98bcaf",
   "metadata": {},
   "source": [
    "This code iterates over the length of poly_list, list of DataFrames. For each polymer, it zips together names and values for medians, variances, and units, then converts these zipped lists into dictionaries. These dictionaries are appended to separate lists (`medians`, `variances`, `units`) for each property type. \n",
    "\n",
    "By zipping the names and values together, you make the data more accessible for operations that require understanding the relationship between a feature's name and its numerical value or unit, such as generating reports, performing detailed analyses, or creating visualizations that require labeled data points."
   ]
  },
  {
   "cell_type": "code",
   "execution_count": 54,
   "id": "84665e8a-205b-4d41-baf3-bf8ae931720a",
   "metadata": {
    "tags": []
   },
   "outputs": [],
   "source": [
    "medians = []\n",
    "variances = []\n",
    "units = []\n",
    "\n",
    "for v in range(len(poly_list)):\n",
    "    median_v = list(zip(median_names_all[v], median_all[v]))  \n",
    "    variance_v = list(zip(variance_names_all[v], variance_all[v]))\n",
    "    unity_v =  list(zip(unity_names_all[v], unity_all[v]))\n",
    "    \n",
    "    medians.append(dict(median_v))\n",
    "    variances.append(dict(variance_v))\n",
    "    units.append(dict(unity_v))"
   ]
  },
  {
   "cell_type": "markdown",
   "id": "48cca080-7d38-49ee-8b88-0698ed075c20",
   "metadata": {},
   "source": [
    "Here’s what each step does:\n",
    "\n",
    "* Zipping names and values: The zip function is used to pair each feature's name (with a suffix indicating the property type, such as `_value_median`, `_value_variance`, or `_unit`) with its corresponding value (`median`, `variance`, or `unit`) for the current polymer (`v`). This results in a list of tuples for medians, variances, and units, where each tuple contains a name-value pair.\n",
    "* `median_v = list(zip(median_names_all[v], median_all[v]))`: Creates a list of tuples for median values and their names. \n",
    "* `variance_v = list(zip(variance_names_all[v], variance_all[v]))`: Creates a list of tuples for variance values and their names.\n",
    "* `unity_v = list(zip(unity_names_all[v], unity_all[v]))`: Creates a list of tuples for unit names and their values.\n",
    "Converting to dictionaries: Each list of tuples is then converted into a dictionary using dict(). This conversion maps each feature's name (as the key) to its corresponding value (as the dictionary value). This is done for median values, variance values, and units, creating three dictionaries for each polymer.\n",
    "medians.append(dict(median_v)): Appends a dictionary of median values (and their corresponding feature names) to the medians list.\n",
    "variances.append(dict(variance_v)): Appends a dictionary of variance values (and their corresponding feature names) to the variances list.\n",
    "units.append(dict(unity_v)): Appends a dictionary of units (and their corresponding feature names) to the units list.\n",
    "Appending to lists: Finally, each dictionary is appended to its corresponding list (medians, variances, units), creating a collection of dictionaries for each polymer. Each list (medians, variances, units) will contain as many dictionaries as there are polymers in poly_list, with each dictionary representing the median values, variance values, and units of properties for a single polymer."
   ]
  }
 ],
 "metadata": {
  "kernelspec": {
   "display_name": "Python 3 (ipykernel)",
   "language": "python",
   "name": "python3"
  },
  "language_info": {
   "codemirror_mode": {
    "name": "ipython",
    "version": 3
   },
   "file_extension": ".py",
   "mimetype": "text/x-python",
   "name": "python",
   "nbconvert_exporter": "python",
   "pygments_lexer": "ipython3",
   "version": "3.11.5"
  }
 },
 "nbformat": 4,
 "nbformat_minor": 5
}
