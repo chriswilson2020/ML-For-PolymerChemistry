{
 "cells": [
  {
   "cell_type": "markdown",
   "id": "6643ff68-e369-4f29-87fe-2d1334d059f3",
   "metadata": {},
   "source": [
    "# Data import of polymer data\n",
    "\n",
    "Data and methodology taken from: Estimation and Prediction of the Polymers’ Physical Characteristics Using the Machine Learning Models Polymers 2024, 16(1), 115; https://doi.org/10.3390/polym16010115. \n",
    "\n",
    "Github repository: https://github.com/catauggie/polymersML/tree/main"
   ]
  },
  {
   "cell_type": "code",
   "execution_count": 1,
   "id": "c19e9cf0-dcd0-4e80-a13a-10b31bdeea76",
   "metadata": {
    "tags": []
   },
   "outputs": [],
   "source": [
    "#import the pandas library\n",
    "import pandas as pd\n",
    "\n",
    "# Use pandas to import the polymer datafile into a dataframe\n",
    "polyinfo = pd.read_excel('polyinfo homopolymer.xlsx')"
   ]
  },
  {
   "cell_type": "code",
   "execution_count": 19,
   "id": "bb0cc148-18f3-4cc4-a47b-ec06212da620",
   "metadata": {
    "tags": []
   },
   "outputs": [
    {
     "data": {
      "text/html": [
       "<div>\n",
       "<style scoped>\n",
       "    .dataframe tbody tr th:only-of-type {\n",
       "        vertical-align: middle;\n",
       "    }\n",
       "\n",
       "    .dataframe tbody tr th {\n",
       "        vertical-align: top;\n",
       "    }\n",
       "\n",
       "    .dataframe thead th {\n",
       "        text-align: right;\n",
       "    }\n",
       "</style>\n",
       "<table border=\"1\" class=\"dataframe\">\n",
       "  <thead>\n",
       "    <tr style=\"text-align: right;\">\n",
       "      <th></th>\n",
       "      <th>polymer_name</th>\n",
       "      <th>polymer_id</th>\n",
       "      <th>cu_formula</th>\n",
       "      <th>property_category</th>\n",
       "      <th>property_name</th>\n",
       "      <th>property_value_median</th>\n",
       "      <th>property_value_variance</th>\n",
       "      <th>property_unit</th>\n",
       "    </tr>\n",
       "  </thead>\n",
       "  <tbody>\n",
       "    <tr>\n",
       "      <th>0</th>\n",
       "      <td>polyethene</td>\n",
       "      <td>P010001</td>\n",
       "      <td>CH2</td>\n",
       "      <td>Physical property</td>\n",
       "      <td>Density</td>\n",
       "      <td>0.9362</td>\n",
       "      <td>0.010564</td>\n",
       "      <td>g/cm3</td>\n",
       "    </tr>\n",
       "    <tr>\n",
       "      <th>1</th>\n",
       "      <td>polyethene</td>\n",
       "      <td>P010001</td>\n",
       "      <td>CH2</td>\n",
       "      <td>Physical property</td>\n",
       "      <td>Specific volume</td>\n",
       "      <td>1.073</td>\n",
       "      <td>12.574191</td>\n",
       "      <td>cm3/g</td>\n",
       "    </tr>\n",
       "    <tr>\n",
       "      <th>2</th>\n",
       "      <td>polyethene</td>\n",
       "      <td>P010001</td>\n",
       "      <td>CH2</td>\n",
       "      <td>Optical property</td>\n",
       "      <td>Refractive index</td>\n",
       "      <td>1.531</td>\n",
       "      <td>0.00091</td>\n",
       "      <td>NaN</td>\n",
       "    </tr>\n",
       "    <tr>\n",
       "      <th>3</th>\n",
       "      <td>polyethene</td>\n",
       "      <td>P010001</td>\n",
       "      <td>CH2</td>\n",
       "      <td>Thermal property</td>\n",
       "      <td>Crystallization kinetics r</td>\n",
       "      <td>79175</td>\n",
       "      <td>122911964.285714</td>\n",
       "      <td>nm/s</td>\n",
       "    </tr>\n",
       "    <tr>\n",
       "      <th>4</th>\n",
       "      <td>polyethene</td>\n",
       "      <td>P010001</td>\n",
       "      <td>CH2</td>\n",
       "      <td>Thermal property</td>\n",
       "      <td>Crystallization kinetics k</td>\n",
       "      <td>0.0617</td>\n",
       "      <td>0.58551</td>\n",
       "      <td>NaN</td>\n",
       "    </tr>\n",
       "  </tbody>\n",
       "</table>\n",
       "</div>"
      ],
      "text/plain": [
       "  polymer_name polymer_id cu_formula  property_category  \\\n",
       "0   polyethene    P010001        CH2  Physical property   \n",
       "1   polyethene    P010001        CH2  Physical property   \n",
       "2   polyethene    P010001        CH2   Optical property   \n",
       "3   polyethene    P010001        CH2   Thermal property   \n",
       "4   polyethene    P010001        CH2   Thermal property   \n",
       "\n",
       "                property_name property_value_median property_value_variance  \\\n",
       "0                     Density                0.9362                0.010564   \n",
       "1             Specific volume                 1.073               12.574191   \n",
       "2            Refractive index                 1.531                 0.00091   \n",
       "3  Crystallization kinetics r                 79175        122911964.285714   \n",
       "4  Crystallization kinetics k                0.0617                 0.58551   \n",
       "\n",
       "  property_unit  \n",
       "0         g/cm3  \n",
       "1         cm3/g  \n",
       "2           NaN  \n",
       "3          nm/s  \n",
       "4           NaN  "
      ]
     },
     "execution_count": 19,
     "metadata": {},
     "output_type": "execute_result"
    }
   ],
   "source": [
    "#Print out the head of the dataframe to see if it looks ok\n",
    "polyinfo.head()"
   ]
  },
  {
   "cell_type": "code",
   "execution_count": 18,
   "id": "2f8e6f7f-989a-422c-80f3-9340ba2a7d0f",
   "metadata": {
    "tags": []
   },
   "outputs": [
    {
     "name": "stdout",
     "output_type": "stream",
     "text": [
      "Number of polymers in the dataset = 18,312\n"
     ]
    }
   ],
   "source": [
    "# Determine the number of unique polymers in the dataset\n",
    "polymers = list(polyinfo['polymer_name'].unique())\n",
    "print(f'Number of polymers in the dataset = {len(polymers):,}')"
   ]
  },
  {
   "cell_type": "markdown",
   "id": "33c01699-6756-49d6-8bbb-319855e06581",
   "metadata": {},
   "source": [
    "## Slice the data into smaller dataframes\n",
    "This snippet of code iterates through a list of polymers, filters information from a DataFrame (`polyinfo`), and then appends the filtered information to a list named `poly_list`. Here's a breakdown of what each part of the code does:\n",
    "\n",
    "1. `poly_list = []`: Initializes `poly_list` as an empty list. This list will store the filtered information for each polymer found in the `polymers` list.\n",
    "\n",
    "2. `for p in range(len(polymers)):`: This line starts a loop that iterates over the indices of the `polymers` list. The `range(len(polymers))` generates a sequence of numbers from `0` to the length of the `polymers` list minus one, effectively iterating over each index in the `polymers` list.\n",
    "\n",
    "3. `poly = polyinfo[polyinfo['polymer_name'] == polymers[p]]`: For each iteration of the loop, this line filters the `polyinfo` DataFrame for rows where the value in the 'polymer_name' column matches the current polymer name in the loop (`polymers[p]`). The result of this filtering (which could be one or more rows of data) is assigned to the variable `poly`.\n",
    "\n",
    "4. `poly_list.append(poly)`: This line appends the filtered DataFrame `poly` to the `poly_list`. After the loop completes, `poly_list` will contain a list of DataFrames, where each DataFrame corresponds to a filtered view of `polyinfo` for each polymer name in the `polymers` list.\n",
    "\n",
    "In summary, this code filters a large DataFrame (`polyinfo`) for specific rows matching each polymer name in a list (`polymers`), and collects these filtered DataFrames into a list (`poly_list`). This separats data specific to each polymer for use in subsequent operations."
   ]
  },
  {
   "cell_type": "code",
   "execution_count": 21,
   "id": "2ed12802-6822-44b4-85e6-4c6e9461e88d",
   "metadata": {
    "tags": []
   },
   "outputs": [],
   "source": [
    "poly_list = []\n",
    "for p in range(len(polymers)):\n",
    "    poly = polyinfo[polyinfo['polymer_name'] == polymers[p]]\n",
    "    poly_list.append(poly)"
   ]
  },
  {
   "cell_type": "code",
   "execution_count": 24,
   "id": "5d45ad0f-c165-4998-8f28-4fb9e2dc4190",
   "metadata": {
    "tags": []
   },
   "outputs": [
    {
     "data": {
      "text/html": [
       "<div>\n",
       "<style scoped>\n",
       "    .dataframe tbody tr th:only-of-type {\n",
       "        vertical-align: middle;\n",
       "    }\n",
       "\n",
       "    .dataframe tbody tr th {\n",
       "        vertical-align: top;\n",
       "    }\n",
       "\n",
       "    .dataframe thead th {\n",
       "        text-align: right;\n",
       "    }\n",
       "</style>\n",
       "<table border=\"1\" class=\"dataframe\">\n",
       "  <thead>\n",
       "    <tr style=\"text-align: right;\">\n",
       "      <th></th>\n",
       "      <th>polymer_name</th>\n",
       "      <th>polymer_id</th>\n",
       "      <th>cu_formula</th>\n",
       "      <th>property_category</th>\n",
       "      <th>property_name</th>\n",
       "      <th>property_value_median</th>\n",
       "      <th>property_value_variance</th>\n",
       "      <th>property_unit</th>\n",
       "    </tr>\n",
       "  </thead>\n",
       "  <tbody>\n",
       "    <tr>\n",
       "      <th>0</th>\n",
       "      <td>polyethene</td>\n",
       "      <td>P010001</td>\n",
       "      <td>CH2</td>\n",
       "      <td>Physical property</td>\n",
       "      <td>Density</td>\n",
       "      <td>0.9362</td>\n",
       "      <td>0.010564</td>\n",
       "      <td>g/cm3</td>\n",
       "    </tr>\n",
       "    <tr>\n",
       "      <th>1</th>\n",
       "      <td>polyethene</td>\n",
       "      <td>P010001</td>\n",
       "      <td>CH2</td>\n",
       "      <td>Physical property</td>\n",
       "      <td>Specific volume</td>\n",
       "      <td>1.073</td>\n",
       "      <td>12.574191</td>\n",
       "      <td>cm3/g</td>\n",
       "    </tr>\n",
       "    <tr>\n",
       "      <th>2</th>\n",
       "      <td>polyethene</td>\n",
       "      <td>P010001</td>\n",
       "      <td>CH2</td>\n",
       "      <td>Optical property</td>\n",
       "      <td>Refractive index</td>\n",
       "      <td>1.531</td>\n",
       "      <td>0.00091</td>\n",
       "      <td>NaN</td>\n",
       "    </tr>\n",
       "    <tr>\n",
       "      <th>3</th>\n",
       "      <td>polyethene</td>\n",
       "      <td>P010001</td>\n",
       "      <td>CH2</td>\n",
       "      <td>Thermal property</td>\n",
       "      <td>Crystallization kinetics r</td>\n",
       "      <td>79175</td>\n",
       "      <td>122911964.285714</td>\n",
       "      <td>nm/s</td>\n",
       "    </tr>\n",
       "    <tr>\n",
       "      <th>4</th>\n",
       "      <td>polyethene</td>\n",
       "      <td>P010001</td>\n",
       "      <td>CH2</td>\n",
       "      <td>Thermal property</td>\n",
       "      <td>Crystallization kinetics k</td>\n",
       "      <td>0.0617</td>\n",
       "      <td>0.58551</td>\n",
       "      <td>NaN</td>\n",
       "    </tr>\n",
       "    <tr>\n",
       "      <th>...</th>\n",
       "      <td>...</td>\n",
       "      <td>...</td>\n",
       "      <td>...</td>\n",
       "      <td>...</td>\n",
       "      <td>...</td>\n",
       "      <td>...</td>\n",
       "      <td>...</td>\n",
       "      <td>...</td>\n",
       "    </tr>\n",
       "    <tr>\n",
       "      <th>88</th>\n",
       "      <td>polyethene</td>\n",
       "      <td>P010001</td>\n",
       "      <td>CH2</td>\n",
       "      <td>Other physical property</td>\n",
       "      <td>Pvt relation pressure</td>\n",
       "      <td>55</td>\n",
       "      <td>42001.909205</td>\n",
       "      <td>MPa</td>\n",
       "    </tr>\n",
       "    <tr>\n",
       "      <th>89</th>\n",
       "      <td>polyethene</td>\n",
       "      <td>P010001</td>\n",
       "      <td>CH2</td>\n",
       "      <td>Other physical property</td>\n",
       "      <td>Pvt relation specific volume</td>\n",
       "      <td>1.127</td>\n",
       "      <td>0.0146</td>\n",
       "      <td>cm3/g</td>\n",
       "    </tr>\n",
       "    <tr>\n",
       "      <th>90</th>\n",
       "      <td>polyethene</td>\n",
       "      <td>P010001</td>\n",
       "      <td>CH2</td>\n",
       "      <td>Other physical property</td>\n",
       "      <td>Pvt relation temperature</td>\n",
       "      <td>180</td>\n",
       "      <td>4496404.537488</td>\n",
       "      <td>C</td>\n",
       "    </tr>\n",
       "    <tr>\n",
       "      <th>91</th>\n",
       "      <td>polyethene</td>\n",
       "      <td>P010001</td>\n",
       "      <td>CH2</td>\n",
       "      <td>Other physical property</td>\n",
       "      <td>Radiation resistance</td>\n",
       "      <td>26</td>\n",
       "      <td>39970.808057</td>\n",
       "      <td>Mrad</td>\n",
       "    </tr>\n",
       "    <tr>\n",
       "      <th>92</th>\n",
       "      <td>polyethene</td>\n",
       "      <td>P010001</td>\n",
       "      <td>CH2</td>\n",
       "      <td>Polymer Information</td>\n",
       "      <td>SMILES</td>\n",
       "      <td>*C*</td>\n",
       "      <td></td>\n",
       "      <td>NaN</td>\n",
       "    </tr>\n",
       "  </tbody>\n",
       "</table>\n",
       "<p>93 rows × 8 columns</p>\n",
       "</div>"
      ],
      "text/plain": [
       "   polymer_name polymer_id cu_formula        property_category  \\\n",
       "0    polyethene    P010001        CH2        Physical property   \n",
       "1    polyethene    P010001        CH2        Physical property   \n",
       "2    polyethene    P010001        CH2         Optical property   \n",
       "3    polyethene    P010001        CH2         Thermal property   \n",
       "4    polyethene    P010001        CH2         Thermal property   \n",
       "..          ...        ...        ...                      ...   \n",
       "88   polyethene    P010001        CH2  Other physical property   \n",
       "89   polyethene    P010001        CH2  Other physical property   \n",
       "90   polyethene    P010001        CH2  Other physical property   \n",
       "91   polyethene    P010001        CH2  Other physical property   \n",
       "92   polyethene    P010001        CH2      Polymer Information   \n",
       "\n",
       "                   property_name property_value_median  \\\n",
       "0                        Density                0.9362   \n",
       "1                Specific volume                 1.073   \n",
       "2               Refractive index                 1.531   \n",
       "3     Crystallization kinetics r                 79175   \n",
       "4     Crystallization kinetics k                0.0617   \n",
       "..                           ...                   ...   \n",
       "88         Pvt relation pressure                    55   \n",
       "89  Pvt relation specific volume                 1.127   \n",
       "90      Pvt relation temperature                   180   \n",
       "91          Radiation resistance                    26   \n",
       "92                        SMILES                   *C*   \n",
       "\n",
       "   property_value_variance property_unit  \n",
       "0                 0.010564         g/cm3  \n",
       "1                12.574191         cm3/g  \n",
       "2                  0.00091           NaN  \n",
       "3         122911964.285714          nm/s  \n",
       "4                  0.58551           NaN  \n",
       "..                     ...           ...  \n",
       "88            42001.909205           MPa  \n",
       "89                  0.0146         cm3/g  \n",
       "90          4496404.537488             C  \n",
       "91            39970.808057          Mrad  \n",
       "92                                   NaN  \n",
       "\n",
       "[93 rows x 8 columns]"
      ]
     },
     "execution_count": 24,
     "metadata": {},
     "output_type": "execute_result"
    }
   ],
   "source": [
    "# Show the dataframe in the list associated with the first entry (polyethene)\n",
    "poly_list[0]"
   ]
  },
  {
   "cell_type": "markdown",
   "id": "43cfec13-0407-468c-a71a-4387c1e2d881",
   "metadata": {},
   "source": [
    "Use a similar method to the way we separated up the larger data frame to count the number of parameters we have for each polymer in the `poly_list`dataframe.  Append this to len_list"
   ]
  },
  {
   "cell_type": "code",
   "execution_count": 27,
   "id": "ecf797a1-7650-4700-a90a-3093ed3b4d4e",
   "metadata": {
    "tags": []
   },
   "outputs": [],
   "source": [
    "len_list = []\n",
    "for pp in range(len(poly_list)):\n",
    "    len_pp = len(poly_list[pp])\n",
    "    len_list.append(len_pp)"
   ]
  },
  {
   "cell_type": "markdown",
   "id": "535d6676-d073-48cc-9e75-7a6e688f29e5",
   "metadata": {},
   "source": [
    "Use the same iteration methodology to generate a list of polymer names present in `poly_list`"
   ]
  },
  {
   "cell_type": "code",
   "execution_count": 28,
   "id": "26cc869d-1ad8-4156-af27-52725b956477",
   "metadata": {
    "tags": []
   },
   "outputs": [],
   "source": [
    "poly_names_list = []\n",
    "for n in range(len(poly_list)):\n",
    "    name_n = list(poly_list[n]['polymer_name'])[0]\n",
    "    poly_names_list.append(name_n)"
   ]
  },
  {
   "cell_type": "code",
   "execution_count": 33,
   "id": "66248e42-8b5a-46b4-8060-465efed50672",
   "metadata": {
    "tags": []
   },
   "outputs": [
    {
     "name": "stdout",
     "output_type": "stream",
     "text": [
      "18,312\n"
     ]
    }
   ],
   "source": [
    "print(f'{len(poly_names_list):,}')"
   ]
  },
  {
   "cell_type": "markdown",
   "id": "d435db7c-39d8-451d-bd3b-def6c748b525",
   "metadata": {},
   "source": [
    "Extract a list of properties avaliable for each polymer in the list `poly_list``\n"
   ]
  },
  {
   "cell_type": "code",
   "execution_count": 34,
   "id": "bdc685d3-e738-41b3-9666-b6aea7178a1f",
   "metadata": {
    "tags": []
   },
   "outputs": [],
   "source": [
    "poly_feats_list = []\n",
    "for f in range(len(poly_list)):\n",
    "    feat_n = list(poly_list[f]['property_name'])\n",
    "    poly_feats_list.append(feat_n)"
   ]
  },
  {
   "cell_type": "markdown",
   "id": "e3e8980d-1c38-453c-bbc6-73a4acb8f12f",
   "metadata": {},
   "source": [
    "Take the three lists we produce a dictionary to aggregate information about polymers, including their names, the number of features (properties), and the names of these features. \n",
    "\n",
    "\n",
    "* **'polymer_name': poly_names_list:** Associates the key **'polymer_name'** with the list **poly_names_list**, which contains the names of polymers. This list was prepared by iterating over a list of DataFrames (`poly_list`), extracting the name of the polymer from each DataFrame, and storing these names.\n",
    "* **'Number of features': len_list:** Links the key **'Number of features'** with the list **len_list**, which records the number of features for each polymer. This list was filled by iterating over `poly_list`, determining the length of the DataFrame (or specifically, the number of rows in the **'property_name'** column) for each polymer, and adding these lengths to **len_list**.\n",
    "* **'Features names': poly_feats_list:** Connects the key **'Features names'** with the list **poly_feats_list**, containing lists of feature names for each polymer. This list of lists was compiled by iterating over `poly_list`, extracting all the feature names (values from the **'property_name'** column) for each polymer, and appending these lists to **poly_feats_list**."
   ]
  },
  {
   "cell_type": "code",
   "execution_count": 36,
   "id": "1383c457-d912-4aaa-98f0-c54565cac60b",
   "metadata": {
    "tags": []
   },
   "outputs": [],
   "source": [
    "df_poly_feats = {'polymer_name': poly_names_list, \n",
    "                 'Number of features': len_list,\n",
    "                'Features names': poly_feats_list}"
   ]
  },
  {
   "cell_type": "markdown",
   "id": "260ef8b9-db61-40bf-aaa0-09a73b52898f",
   "metadata": {},
   "source": [
    "This dictionary is structured to be directly convertible into a pandas DataFrame.\n",
    "The utility of creating a structured DataFrame (`df_poly_feats`) from the `poly_list` and associated information, rather than using `poly_list` directly, hinges on several factors that enhance data analysis, presentation, and manipulation capabilities. "
   ]
  },
  {
   "cell_type": "code",
   "execution_count": 40,
   "id": "702d124a-ffbb-405e-850d-55cf5c3ada81",
   "metadata": {
    "tags": []
   },
   "outputs": [
    {
     "data": {
      "text/html": [
       "<div>\n",
       "<style scoped>\n",
       "    .dataframe tbody tr th:only-of-type {\n",
       "        vertical-align: middle;\n",
       "    }\n",
       "\n",
       "    .dataframe tbody tr th {\n",
       "        vertical-align: top;\n",
       "    }\n",
       "\n",
       "    .dataframe thead th {\n",
       "        text-align: right;\n",
       "    }\n",
       "</style>\n",
       "<table border=\"1\" class=\"dataframe\">\n",
       "  <thead>\n",
       "    <tr style=\"text-align: right;\">\n",
       "      <th></th>\n",
       "      <th>polymer_name</th>\n",
       "      <th>Number of features</th>\n",
       "      <th>Features names</th>\n",
       "    </tr>\n",
       "  </thead>\n",
       "  <tbody>\n",
       "    <tr>\n",
       "      <th>0</th>\n",
       "      <td>polyethene</td>\n",
       "      <td>93</td>\n",
       "      <td>[Density, Specific volume, Refractive index, C...</td>\n",
       "    </tr>\n",
       "    <tr>\n",
       "      <th>1</th>\n",
       "      <td>poly(prop-1-ene)</td>\n",
       "      <td>86</td>\n",
       "      <td>[Density, Specific volume, Refractive index, C...</td>\n",
       "    </tr>\n",
       "    <tr>\n",
       "      <th>2</th>\n",
       "      <td>poly(but-1-ene)</td>\n",
       "      <td>41</td>\n",
       "      <td>[Density, Specific volume, Refractive index, C...</td>\n",
       "    </tr>\n",
       "    <tr>\n",
       "      <th>3</th>\n",
       "      <td>poly(pent-1-ene)</td>\n",
       "      <td>16</td>\n",
       "      <td>[Density, Specific volume, Glass transition te...</td>\n",
       "    </tr>\n",
       "    <tr>\n",
       "      <th>4</th>\n",
       "      <td>poly(3-methylbut-1-ene)</td>\n",
       "      <td>15</td>\n",
       "      <td>[Density, Specific volume, Glass transition te...</td>\n",
       "    </tr>\n",
       "  </tbody>\n",
       "</table>\n",
       "</div>"
      ],
      "text/plain": [
       "              polymer_name  Number of features  \\\n",
       "0               polyethene                  93   \n",
       "1         poly(prop-1-ene)                  86   \n",
       "2          poly(but-1-ene)                  41   \n",
       "3         poly(pent-1-ene)                  16   \n",
       "4  poly(3-methylbut-1-ene)                  15   \n",
       "\n",
       "                                      Features names  \n",
       "0  [Density, Specific volume, Refractive index, C...  \n",
       "1  [Density, Specific volume, Refractive index, C...  \n",
       "2  [Density, Specific volume, Refractive index, C...  \n",
       "3  [Density, Specific volume, Glass transition te...  \n",
       "4  [Density, Specific volume, Glass transition te...  "
      ]
     },
     "execution_count": 40,
     "metadata": {},
     "output_type": "execute_result"
    }
   ],
   "source": [
    "ddf = pd.DataFrame(df_poly_feats)\n",
    "ddf.head()"
   ]
  },
  {
   "cell_type": "markdown",
   "id": "a4f9f562-754b-48d5-91af-85823d5b7e81",
   "metadata": {},
   "source": [
    "#### The advantage of structuring the data in this way:\n",
    "1. **Structured Representation:**\n",
    "Clarity and Accessibility: A DataFrame provides a tabular structure that is intuitive to work with. It clearly delineates polymer names, the number of features, and the features themselves in separate columns, making data access and manipulation straightforward.\n",
    "Integration of Related Data: By consolidating polymer names, the number of features, and feature names into a single DataFrame, you establish a direct relationship among these elements. This integrated view facilitates analyses that involve multiple aspects of the data simultaneously.\n",
    "2. **Enhanced Data Analysis Capabilities:**\n",
    "Built-in Functions: pandas DataFrames support a wide array of built-in functions for data analysis, including statistical summaries, group-by operations, and pivot tables, which are not as readily accessible or efficient with a list of DataFrames or lists.\n",
    "Filtering and Selection: Identifying and extracting data based on certain criteria (e.g., polymers with a specific number of features) is more straightforward with DataFrame operations.\n",
    "3. **Ease of Data Manipulation:**\n",
    "Modification: Adding, removing, or modifying data (such as adding another feature or updating feature names) is more efficient in a DataFrame structure. Changes can be applied across multiple rows or columns with simple commands.\n",
    "Reshaping and Pivoting: Transforming the dataset to fit specific analysis needs (like pivoting or melting data for different views) is facilitated by DataFrame methods.\n",
    "4. **Improved Data Visualization:**\n",
    "Direct Plotting: pandas DataFrames integrate seamlessly with visualization libraries like matplotlib and seaborn, allowing for direct plotting of data. Visualizing the distribution of features across polymers or comparing the number of features between polymers can be achieved with minimal code.\n",
    "5. **Data Export and Sharing:**\n",
    "Interoperability: DataFrames can be easily exported to various formats (CSV, Excel, JSON) for sharing or further analysis, offering flexibility not inherently available with a custom list structure like poly_list.\n",
    "6. **Error Reduction:**\n",
    "Consistency: By structuring data into a DataFrame, you ensure a consistent format, which can reduce errors in data handling and analysis. The tabular format enforces a uniform structure, potentially catching inconsistencies in data types or missing values."
   ]
  }
 ],
 "metadata": {
  "kernelspec": {
   "display_name": "Python 3 (ipykernel)",
   "language": "python",
   "name": "python3"
  },
  "language_info": {
   "codemirror_mode": {
    "name": "ipython",
    "version": 3
   },
   "file_extension": ".py",
   "mimetype": "text/x-python",
   "name": "python",
   "nbconvert_exporter": "python",
   "pygments_lexer": "ipython3",
   "version": "3.11.5"
  }
 },
 "nbformat": 4,
 "nbformat_minor": 5
}
